{
 "cells": [
  {
   "cell_type": "code",
   "execution_count": 1,
   "id": "a45e4956",
   "metadata": {
    "ExecuteTime": {
     "end_time": "2023-09-26T18:35:15.915128Z",
     "start_time": "2023-09-26T18:35:15.905290Z"
    }
   },
   "outputs": [
    {
     "name": "stdout",
     "output_type": "stream",
     "text": [
      "0.8500000000000001\n"
     ]
    }
   ],
   "source": [
    "weight = 0.1\n",
    "\n",
    "def neural_network(input, weight):\n",
    "    prediction = input * weight\n",
    "    return prediction\n",
    "\n",
    "number_of_toes = [8.5, 9.5, 10, 9]\n",
    "\n",
    "input = number_of_toes[0]\n",
    "\n",
    "pred = neural_network(input, weight)\n",
    "print(pred)\n",
    "\n",
    "# input == \"Information\"\n",
    "# weight == \"Knowledge\" Also interpreted as the measure of \"sensitivity\" between the network's input and prediction."
   ]
  },
  {
   "cell_type": "markdown",
   "id": "11c9cd7d",
   "metadata": {},
   "source": [
    "# Predicting with Multiple Inputs"
   ]
  },
  {
   "cell_type": "code",
   "execution_count": 7,
   "id": "546f3d21",
   "metadata": {
    "ExecuteTime": {
     "end_time": "2023-09-26T18:56:08.376907Z",
     "start_time": "2023-09-26T18:56:08.370540Z"
    }
   },
   "outputs": [
    {
     "name": "stdout",
     "output_type": "stream",
     "text": [
      "0.9800000000000001\n"
     ]
    }
   ],
   "source": [
    "# Empty network with multiple inputs\n",
    "\n",
    "def neural_network(input, weights):\n",
    "    pred = weighted_sum(input, weights)\n",
    "    return pred\n",
    "\n",
    "weights = [0.1, 0.2, 0]\n",
    "toes = [8.5, 9.5, 10, 9]\n",
    "wlrec = [0.65, 0.8, 0.8, 0.9]\n",
    "nfans = [1.2, 1.3, 0.5, 1.0]\n",
    "\n",
    "input = [toes[0], wlrec[0], nfans[0]]\n",
    "\n",
    "# Perform a weighted-sum of inputs\n",
    "\n",
    "def weighted_sum(a,b):\n",
    "    assert(len(a) == len(b))\n",
    "    output = 0\n",
    "    for i in range(len(a)):\n",
    "        output += a[i]*b[i]\n",
    "    return output\n",
    "\n",
    "# Run the network\n",
    "nn_pred = neural_network(input, weights)\n",
    "print(nn_pred)"
   ]
  },
  {
   "cell_type": "markdown",
   "id": "64134844",
   "metadata": {},
   "source": [
    "## Predicting with Multiple Outputs using Numpy()"
   ]
  },
  {
   "cell_type": "code",
   "execution_count": 8,
   "id": "f217a779",
   "metadata": {
    "ExecuteTime": {
     "end_time": "2023-09-26T20:51:35.412197Z",
     "start_time": "2023-09-26T20:51:35.144798Z"
    }
   },
   "outputs": [
    {
     "name": "stdout",
     "output_type": "stream",
     "text": [
      "(0.9800000000000001, 0.9800000000000001)\n"
     ]
    }
   ],
   "source": [
    "import numpy as np\n",
    "weights = np.array([0.1, 0.2, 0.0])\n",
    "\n",
    "def neural_network(input, weights):\n",
    "    pred1 = input.dot(weights)\n",
    "    pred2 = np.dot(input, weights)\n",
    "    return (pred1, pred2)\n",
    "\n",
    "toes = np.array([8.5, 9.5, 9.9, 9.0])\n",
    "wlrec = np.array([0.65, 0.8, 0.8, 0.9])\n",
    "nfans = np.array([1.2, 1.3, 0.5, 1.0])\n",
    "\n",
    "input = np.array([toes[0], wlrec[0], nfans[0]])\n",
    "preds = neural_network(input, weights)\n",
    "print(preds)"
   ]
  },
  {
   "cell_type": "code",
   "execution_count": null,
   "id": "d127f6ee",
   "metadata": {},
   "outputs": [],
   "source": []
  },
  {
   "cell_type": "code",
   "execution_count": null,
   "id": "75c5517f",
   "metadata": {},
   "outputs": [],
   "source": []
  },
  {
   "cell_type": "code",
   "execution_count": null,
   "id": "0ba3c6a4",
   "metadata": {},
   "outputs": [],
   "source": []
  },
  {
   "cell_type": "code",
   "execution_count": null,
   "id": "74ee3f50",
   "metadata": {},
   "outputs": [],
   "source": []
  },
  {
   "cell_type": "code",
   "execution_count": null,
   "id": "6042c788",
   "metadata": {},
   "outputs": [],
   "source": []
  },
  {
   "cell_type": "code",
   "execution_count": null,
   "id": "eff8c2be",
   "metadata": {},
   "outputs": [],
   "source": []
  },
  {
   "cell_type": "code",
   "execution_count": null,
   "id": "0de29e59",
   "metadata": {},
   "outputs": [],
   "source": []
  },
  {
   "cell_type": "code",
   "execution_count": null,
   "id": "842169fc",
   "metadata": {},
   "outputs": [],
   "source": []
  },
  {
   "cell_type": "code",
   "execution_count": null,
   "id": "23470c24",
   "metadata": {},
   "outputs": [],
   "source": []
  }
 ],
 "metadata": {
  "kernelspec": {
   "display_name": "Python 3 (ipykernel)",
   "language": "python",
   "name": "python3"
  },
  "language_info": {
   "codemirror_mode": {
    "name": "ipython",
    "version": 3
   },
   "file_extension": ".py",
   "mimetype": "text/x-python",
   "name": "python",
   "nbconvert_exporter": "python",
   "pygments_lexer": "ipython3",
   "version": "3.11.3"
  },
  "toc": {
   "base_numbering": 1,
   "nav_menu": {},
   "number_sections": true,
   "sideBar": true,
   "skip_h1_title": false,
   "title_cell": "Table of Contents",
   "title_sidebar": "Contents",
   "toc_cell": false,
   "toc_position": {},
   "toc_section_display": true,
   "toc_window_display": false
  }
 },
 "nbformat": 4,
 "nbformat_minor": 5
}
