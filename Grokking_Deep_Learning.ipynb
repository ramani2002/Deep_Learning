{
 "cells": [
  {
   "cell_type": "code",
   "execution_count": 1,
   "id": "a45e4956",
   "metadata": {
    "ExecuteTime": {
     "end_time": "2023-09-26T18:35:15.915128Z",
     "start_time": "2023-09-26T18:35:15.905290Z"
    }
   },
   "outputs": [
    {
     "name": "stdout",
     "output_type": "stream",
     "text": [
      "0.8500000000000001\n"
     ]
    }
   ],
   "source": [
    "weight = 0.1\n",
    "\n",
    "def neural_network(input, weight):\n",
    "    prediction = input * weight\n",
    "    return prediction\n",
    "\n",
    "number_of_toes = [8.5, 9.5, 10, 9]\n",
    "\n",
    "input = number_of_toes[0]\n",
    "\n",
    "pred = neural_network(input, weight)\n",
    "print(pred)\n",
    "\n",
    "# input == \"Information\"\n",
    "# weight == \"Knowledge\" Also interpreted as the measure of \"sensitivity\" between the network's input and prediction."
   ]
  },
  {
   "cell_type": "markdown",
   "id": "11c9cd7d",
   "metadata": {},
   "source": [
    "# Predicting with Multiple Inputs"
   ]
  },
  {
   "cell_type": "code",
   "execution_count": 7,
   "id": "546f3d21",
   "metadata": {
    "ExecuteTime": {
     "end_time": "2023-09-26T18:56:08.376907Z",
     "start_time": "2023-09-26T18:56:08.370540Z"
    }
   },
   "outputs": [
    {
     "name": "stdout",
     "output_type": "stream",
     "text": [
      "0.9800000000000001\n"
     ]
    }
   ],
   "source": [
    "# Empty network with multiple inputs\n",
    "\n",
    "def neural_network(input, weights):\n",
    "    pred = weighted_sum(input, weights)\n",
    "    return pred\n",
    "\n",
    "weights = [0.1, 0.2, 0]\n",
    "toes = [8.5, 9.5, 10, 9]\n",
    "wlrec = [0.65, 0.8, 0.8, 0.9]\n",
    "nfans = [1.2, 1.3, 0.5, 1.0]\n",
    "\n",
    "input = [toes[0], wlrec[0], nfans[0]]\n",
    "\n",
    "# Perform a weighted-sum of inputs\n",
    "\n",
    "def weighted_sum(a,b):\n",
    "    assert(len(a) == len(b))\n",
    "    output = 0\n",
    "    for i in range(len(a)):\n",
    "        output += a[i]*b[i]\n",
    "    return output\n",
    "\n",
    "# Run the network\n",
    "nn_pred = neural_network(input, weights)\n",
    "print(nn_pred)"
   ]
  },
  {
   "cell_type": "markdown",
   "id": "64134844",
   "metadata": {},
   "source": [
    "## Predicting with Multiple Inputs using Numpy()"
   ]
  },
  {
   "cell_type": "code",
   "execution_count": 1,
   "id": "f217a779",
   "metadata": {
    "ExecuteTime": {
     "end_time": "2023-09-28T17:42:47.056063Z",
     "start_time": "2023-09-28T17:42:46.848674Z"
    }
   },
   "outputs": [
    {
     "name": "stdout",
     "output_type": "stream",
     "text": [
      "0.9800000000000001\n"
     ]
    }
   ],
   "source": [
    "import numpy as np\n",
    "weights = np.array([0.1, 0.2, 0.0])\n",
    "\n",
    "def neural_network(input, weights):\n",
    "#     pred1 = input.dot(weights)\n",
    "    pred2 = np.dot(input, weights)\n",
    "#     return (pred1, pred2)\n",
    "    return pred2\n",
    "\n",
    "toes = np.array([8.5, 9.5, 9.9, 9.0])\n",
    "wlrec = np.array([0.65, 0.8, 0.8, 0.9])\n",
    "nfans = np.array([1.2, 1.3, 0.5, 1.0])\n",
    "\n",
    "input = np.array([toes[0], wlrec[0], nfans[0]])\n",
    "preds = neural_network(input, weights)\n",
    "print(preds)"
   ]
  },
  {
   "cell_type": "markdown",
   "id": "80359468",
   "metadata": {},
   "source": [
    "# Predicting with Multiple Outputs"
   ]
  },
  {
   "cell_type": "markdown",
   "id": "ce9e6cb3",
   "metadata": {},
   "source": [
    "## Multiple Predictions using a Single Input"
   ]
  },
  {
   "cell_type": "markdown",
   "id": "40dfcc81",
   "metadata": {},
   "source": [
    "Use a single input to predict ratio of: happy or sad players, hurt players, predicted wins. The single input is any of teh the win-loss record of the team"
   ]
  },
  {
   "cell_type": "code",
   "execution_count": 7,
   "id": "74ee3f50",
   "metadata": {
    "ExecuteTime": {
     "end_time": "2023-09-28T18:13:04.002179Z",
     "start_time": "2023-09-28T18:13:03.995745Z"
    }
   },
   "outputs": [
    {
     "name": "stdout",
     "output_type": "stream",
     "text": [
      "[0.195, 0.13, 0.5850000000000001]\n"
     ]
    }
   ],
   "source": [
    "weights = [0.3, 0.2, 0.9] # Corresponding to hurt, % wins, and happy/sad\n",
    "\n",
    "def neural_network(input, weights):\n",
    "    pred = ele_mult(input,weights)\n",
    "    return pred\n",
    "\n",
    "def ele_mult(number, vector): # Element-wise multiplication\n",
    "    output = [0,0,0]\n",
    "    assert(len(output) == len(vector))\n",
    "    for i in range(len(vector)):\n",
    "        output[i] = number*vector[i]\n",
    "    return output\n",
    "\n",
    "wlrec = [0.65, 0.8, 9.8, 0.9]\n",
    "input = wlrec[0]\n",
    "\n",
    "# Call the prediction function\n",
    "print(neural_network(wlrec[0], weights))"
   ]
  },
  {
   "cell_type": "markdown",
   "id": "74c4f00a",
   "metadata": {},
   "source": [
    "## Multiple Predictions with Multiple Inputs"
   ]
  },
  {
   "cell_type": "code",
   "execution_count": 19,
   "id": "d0d4b931",
   "metadata": {
    "ExecuteTime": {
     "end_time": "2023-09-28T20:35:12.870351Z",
     "start_time": "2023-09-28T20:35:12.863314Z"
    }
   },
   "outputs": [
    {
     "name": "stdout",
     "output_type": "stream",
     "text": [
      "[0.555, 0.9800000000000001, 0.9650000000000001]\n"
     ]
    }
   ],
   "source": [
    "weights = [[0.1, 0.1, -0.3], # [#toes, %win, #fans]*[#hurt, #win, #sad].Transpose()\n",
    "           [0.1, 0.2, 0.0],\n",
    "           [0.0, 1.3, 0.1]]\n",
    "\n",
    "def neural_network(input, weights):\n",
    "    pred = vector_matrx_mult(input,weights)\n",
    "    return pred\n",
    "\n",
    "# The following dataset is the current status at the beginning of each game for the first four games of the season.\n",
    "# toes = current average number of toes per player\n",
    "# wlrec = current games won (percent)\n",
    "# nfans = fan count (in millions)\n",
    "\n",
    "toes = [8.5, 8.5, 9.9, 9.0]\n",
    "wlrec = [0.65, 0.8, 0.8, 0.9]\n",
    "nfans = [1.2, 1.3, 0.5, 1.0]\n",
    "\n",
    "input = [toes[0], wlrec[0], nfans[0]]\n",
    "\n",
    "def w_sum(a,b):\n",
    "    assert(len(a) == len(b))\n",
    "    output = 0\n",
    "    for i in range(len(a)):\n",
    "        output += a[i]*b[i]\n",
    "#         print(output)\n",
    "    return output\n",
    "\n",
    "def vector_matrx_mult(vector,matrix):\n",
    "    assert(len(vector) == len(matrix))\n",
    "    output = [0, 0, 0]\n",
    "    for i in range(len(vector)):\n",
    "        output[i] = w_sum(vector, matrix[i])\n",
    "    return output\n",
    "\n",
    "# Call the main function to get predictions\n",
    "print(neural_network(input, weights))"
   ]
  },
  {
   "cell_type": "markdown",
   "id": "1761a54e",
   "metadata": {},
   "source": [
    "# Predicting on Predictions"
   ]
  },
  {
   "cell_type": "markdown",
   "id": "794aa4d7",
   "metadata": {
    "ExecuteTime": {
     "end_time": "2023-09-28T20:07:02.337904Z",
     "start_time": "2023-09-28T20:07:02.333934Z"
    }
   },
   "source": [
    "Neural Networks can be Stacked!\n",
    "\n",
    "The outputs of one network can be fed as input into another network. One reason is that some datasets (image classification) might be too complex for a single weighted matrix."
   ]
  },
  {
   "cell_type": "markdown",
   "id": "a6c51906",
   "metadata": {},
   "source": [
    "Assume there is another layer of neural nets between the input layer and the output layer called a \"hidden layer.\" Input -> Hidden and Hidden -> Output forms two networks\n",
    "The inputs is passed to the hidden layer and the output of the hidden layer is fed to the output layers - all with assigned weights."
   ]
  },
  {
   "cell_type": "code",
   "execution_count": 36,
   "id": "eff8c2be",
   "metadata": {
    "ExecuteTime": {
     "end_time": "2023-09-28T20:43:23.779677Z",
     "start_time": "2023-09-28T20:43:23.771663Z"
    }
   },
   "outputs": [
    {
     "name": "stdout",
     "output_type": "stream",
     "text": [
      "None\n"
     ]
    }
   ],
   "source": [
    "# Input to Hidden weights\n",
    "\n",
    "ih_wgt = [[0.1, 0.2, -0.1], # [#toes, %win, #fans]*[#hid0, #hid1, #hid2].Transpose()\n",
    "         [-0.1, 0.1, 0.9],\n",
    "         [0.1, 0.4, 0.1]]\n",
    "\n",
    "# Hidden to Output weights\n",
    "\n",
    "hp_wgt = [[0.3, 0.1, -0.3], # [#hid0, %hid1, #hid2]*[#hurt, #win, #sad].Transpose()\n",
    "         [0.1, 0.2, 0.0],\n",
    "         [0.0, 1.3, 0.1]]\n",
    "\n",
    "weights = [ih_wgt, hp_wgt]\n",
    "\n",
    "def neural_network(input, weights):\n",
    "    hid = vector_matrx_mult(input, weights[0])\n",
    "    pred = vector_matrx_mult(input, weights[1])\n",
    "    \n",
    "def vector_matrx_mult(vector,matrix):\n",
    "    assert(len(vector) == len(matrix))\n",
    "    output = [0, 0, 0]\n",
    "    for i in range(len(vector)):\n",
    "        output[i] = w_sum(vector, matrix[i])\n",
    "    return output\n",
    "    \n",
    "def w_sum(a,b):\n",
    "    assert(len(a) == len(b))\n",
    "    output = 0\n",
    "    for i in range(len(a)):\n",
    "        output += a[i]*b[i]\n",
    "#         print(output)\n",
    "    return output\n",
    "\n",
    "toes = [8.5, 8.5, 9.9, 9.0]\n",
    "wlrec = [0.65, 0.8, 0.8, 0.9]\n",
    "nfans = [1.2, 1.3, 0.5, 1.0]\n",
    "\n",
    "input = [toes[0], wlrec[0], nfans[0]]\n",
    "\n",
    "print(neural_network(input, weights))"
   ]
  },
  {
   "cell_type": "code",
   "execution_count": 38,
   "id": "0de29e59",
   "metadata": {
    "ExecuteTime": {
     "end_time": "2023-09-28T20:51:58.382654Z",
     "start_time": "2023-09-28T20:51:58.375756Z"
    }
   },
   "outputs": [
    {
     "name": "stdout",
     "output_type": "stream",
     "text": [
      "[ 0.496  0.351 -0.286]\n"
     ]
    }
   ],
   "source": [
    "import numpy as np\n",
    "\n",
    "ih_wgt = np.array([[0.1, 0.2, -0.1],\n",
    "                   [-0.1, 0.1, 0.9],\n",
    "                   [0.1, 0.4, 0.1]])\n",
    "\n",
    "hp_wgt = np.array([[0.3, 0.1, -0.3],\n",
    "                  [0.1, 0.2, 0.0],\n",
    "                  [0.0, 1.3, 0.1]])\n",
    "\n",
    "weights = [ih_wgt, hp_wgt]\n",
    "\n",
    "toes = np.array([8.5, 8.5, 9.9, 9.0])\n",
    "wlrec = np.array([0.65, 0.8, 0.8, 0.9])\n",
    "nfans = np.array([1.2, 1.3, 0.5, 1.0])\n",
    "\n",
    "input = np.array([toes[0], wlrec[0], nfans[0]])\n",
    "\n",
    "def neural_network(input, weights):\n",
    "    hid = np.dot(input, weights[0]) # Weights[0] is the matrix of weights from input to hidden\n",
    "    pred = np.dot(hid, weights[1]) # weights[1] is the matrix of weights from hidden to output\n",
    "    return pred\n",
    "\n",
    "preds = neural_network(input, weights)\n",
    "print(preds)"
   ]
  },
  {
   "cell_type": "markdown",
   "id": "9c6a63d9",
   "metadata": {},
   "source": [
    "# Begin: An Side playing with Numpy"
   ]
  },
  {
   "cell_type": "code",
   "execution_count": 50,
   "id": "069d7722",
   "metadata": {
    "ExecuteTime": {
     "end_time": "2023-09-28T21:32:16.604895Z",
     "start_time": "2023-09-28T21:32:16.596413Z"
    }
   },
   "outputs": [
    {
     "name": "stdout",
     "output_type": "stream",
     "text": [
      "a: [0 1 2 3]\n",
      "b: [4 5 6 7]\n",
      "c: [[0 1 2 3]\n",
      " [4 5 6 7]]\n",
      "d: [[0. 0. 0. 0.]\n",
      " [0. 0. 0. 0.]]\n",
      "e: [[0.94788399 0.34016538 0.51598668 0.21932362 0.63637496]\n",
      " [0.42591096 0.60325927 0.36411056 0.13964996 0.94396211]]\n",
      "====================\n",
      "a*0.1: [0.  0.1 0.2 0.3]\n",
      "c*0.2: [[0.  0.2 0.4 0.6]\n",
      " [0.8 1.  1.2 1.4]]\n",
      "a*b: [ 0  5 12 21]\n",
      "a*b*0.2: [0.  1.  2.4 4.2]\n",
      "a*c: [[ 0  1  4  9]\n",
      " [ 0  5 12 21]]\n"
     ]
    }
   ],
   "source": [
    "import numpy as np\n",
    "\n",
    "a = np.array([0,1,2,3])\n",
    "b = np.array([4,5,6,7])\n",
    "c = np.array([[0,1,2,3],\n",
    "             [4,5,6,7]])\n",
    "d = np.zeros((2,4))\n",
    "e = np.random.rand(2,5)\n",
    "\n",
    "print(f'a: {a}')\n",
    "print(f'b: {b}')\n",
    "print(f'c: {c}')\n",
    "print(f'd: {d}')\n",
    "print(f'e: {e}')\n",
    "print('====================')\n",
    "print(f'a*0.1: {a*0.1}')\n",
    "print(f'c*0.2: {c*0.2}')\n",
    "print(f'a*b: {a*b}')\n",
    "print(f'a*b*0.2: {a*b*0.2}')\n",
    "print(f'a*c: {a*c}')"
   ]
  },
  {
   "cell_type": "markdown",
   "id": "84bffdde",
   "metadata": {},
   "source": [
    "# Begin: An Side playing with Numpy"
   ]
  },
  {
   "cell_type": "markdown",
   "id": "cec17549",
   "metadata": {},
   "source": [
    "# Gradient Descent"
   ]
  },
  {
   "cell_type": "markdown",
   "id": "6f328ff9",
   "metadata": {},
   "source": [
    "## Learning using the Hot and Cold Method\n",
    "\n",
    "Here \"Learning\" is all about error attributionor the art of figuring out how each weight played its part in creating error."
   ]
  },
  {
   "cell_type": "code",
   "execution_count": 53,
   "id": "64051241",
   "metadata": {
    "ExecuteTime": {
     "end_time": "2023-09-28T22:01:23.445044Z",
     "start_time": "2023-09-28T22:01:23.439729Z"
    }
   },
   "outputs": [
    {
     "name": "stdout",
     "output_type": "stream",
     "text": [
      "prediction is: 0.8500000000000001\n",
      "error is: 0.022499999999999975\n"
     ]
    }
   ],
   "source": [
    "weight = 0.1\n",
    "lr = 0.01 # lr == Learning Rate\n",
    "\n",
    "# An empty network\n",
    "def neural_network(input, weights):\n",
    "    prediction = input*weights\n",
    "    return prediction\n",
    "\n",
    "# Making a prediction and evaluating the error\n",
    "number_of_toes = [8.5]\n",
    "win_or_lost_binary = [1] # Won!!!\n",
    "true = win_or_lost_binary[0]\n",
    "input = number_of_toes[0]\n",
    "pred = neural_network(input, weight)\n",
    "print(f'prediction is: {pred}')\n",
    "error = (pred-true)**2\n",
    "print(f'error is: {error}')\n",
    "\n"
   ]
  },
  {
   "cell_type": "code",
   "execution_count": null,
   "id": "7cf4dc6a",
   "metadata": {},
   "outputs": [],
   "source": []
  },
  {
   "cell_type": "code",
   "execution_count": null,
   "id": "0f850dff",
   "metadata": {},
   "outputs": [],
   "source": []
  },
  {
   "cell_type": "code",
   "execution_count": null,
   "id": "7b082f5f",
   "metadata": {},
   "outputs": [],
   "source": []
  },
  {
   "cell_type": "code",
   "execution_count": null,
   "id": "1c2299c0",
   "metadata": {},
   "outputs": [],
   "source": []
  },
  {
   "cell_type": "code",
   "execution_count": null,
   "id": "8fc3b6ed",
   "metadata": {},
   "outputs": [],
   "source": []
  },
  {
   "cell_type": "code",
   "execution_count": null,
   "id": "3f69b49f",
   "metadata": {},
   "outputs": [],
   "source": []
  },
  {
   "cell_type": "code",
   "execution_count": null,
   "id": "d31f6ea6",
   "metadata": {},
   "outputs": [],
   "source": []
  },
  {
   "cell_type": "code",
   "execution_count": null,
   "id": "d771de38",
   "metadata": {},
   "outputs": [],
   "source": []
  },
  {
   "cell_type": "code",
   "execution_count": null,
   "id": "e19f599d",
   "metadata": {},
   "outputs": [],
   "source": []
  }
 ],
 "metadata": {
  "kernelspec": {
   "display_name": "Python 3 (ipykernel)",
   "language": "python",
   "name": "python3"
  },
  "language_info": {
   "codemirror_mode": {
    "name": "ipython",
    "version": 3
   },
   "file_extension": ".py",
   "mimetype": "text/x-python",
   "name": "python",
   "nbconvert_exporter": "python",
   "pygments_lexer": "ipython3",
   "version": "3.11.3"
  },
  "toc": {
   "base_numbering": 1,
   "nav_menu": {},
   "number_sections": true,
   "sideBar": true,
   "skip_h1_title": false,
   "title_cell": "Table of Contents",
   "title_sidebar": "Contents",
   "toc_cell": false,
   "toc_position": {},
   "toc_section_display": true,
   "toc_window_display": false
  }
 },
 "nbformat": 4,
 "nbformat_minor": 5
}
